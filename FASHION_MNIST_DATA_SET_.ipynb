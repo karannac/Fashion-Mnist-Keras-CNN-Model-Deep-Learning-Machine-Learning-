{
  "nbformat": 4,
  "nbformat_minor": 0,
  "metadata": {
    "colab": {
      "name": "FASHION  MNIST DATA SET .ipynb",
      "provenance": [],
      "collapsed_sections": []
    },
    "kernelspec": {
      "name": "python3",
      "display_name": "Python 3"
    }
  },
  "cells": [
    {
      "cell_type": "code",
      "metadata": {
        "id": "-dvbqTGPMHHq",
        "colab_type": "code",
        "colab": {}
      },
      "source": [
        "import tensorflow as tf \n",
        "from tensorflow.keras import layers \n",
        "from tensorflow import keras\n",
        "import numpy as np\n",
        "from keras.datasets import fashion_mnist\n",
        "(x_train, y_train), (x_test, y_test) = fashion_mnist.load_data()"
      ],
      "execution_count": 94,
      "outputs": []
    },
    {
      "cell_type": "code",
      "metadata": {
        "id": "NsGQWogcNYTl",
        "colab_type": "code",
        "colab": {}
      },
      "source": [
        "class_names = ['T-shirt/top', 'Trouser', 'Pullover', 'Dress', 'Coat',\n",
        "               'Sandal', 'Shirt', 'Sneaker', 'Bag', 'Ankle boot']"
      ],
      "execution_count": 95,
      "outputs": []
    },
    {
      "cell_type": "code",
      "metadata": {
        "id": "2LBpgSMONk_d",
        "colab_type": "code",
        "colab": {
          "base_uri": "https://localhost:8080/",
          "height": 34
        },
        "outputId": "74849929-e0c4-4c68-fc93-fb63bea3823f"
      },
      "source": [
        "x_train.shape"
      ],
      "execution_count": 96,
      "outputs": [
        {
          "output_type": "execute_result",
          "data": {
            "text/plain": [
              "(60000, 28, 28)"
            ]
          },
          "metadata": {
            "tags": []
          },
          "execution_count": 96
        }
      ]
    },
    {
      "cell_type": "code",
      "metadata": {
        "id": "10DPnRvONqIb",
        "colab_type": "code",
        "colab": {
          "base_uri": "https://localhost:8080/",
          "height": 34
        },
        "outputId": "90c831ee-a7f1-443b-8626-a162f1b83a63"
      },
      "source": [
        "len(y_train)"
      ],
      "execution_count": 97,
      "outputs": [
        {
          "output_type": "execute_result",
          "data": {
            "text/plain": [
              "60000"
            ]
          },
          "metadata": {
            "tags": []
          },
          "execution_count": 97
        }
      ]
    },
    {
      "cell_type": "code",
      "metadata": {
        "id": "doBV7PHANvD-",
        "colab_type": "code",
        "colab": {
          "base_uri": "https://localhost:8080/",
          "height": 34
        },
        "outputId": "e6ccc3ea-b76a-4d96-b4a5-8d82104b7cc0"
      },
      "source": [
        "x_test.shape"
      ],
      "execution_count": 98,
      "outputs": [
        {
          "output_type": "execute_result",
          "data": {
            "text/plain": [
              "(10000, 28, 28)"
            ]
          },
          "metadata": {
            "tags": []
          },
          "execution_count": 98
        }
      ]
    },
    {
      "cell_type": "code",
      "metadata": {
        "id": "Ew7pngMZN7WW",
        "colab_type": "code",
        "colab": {
          "base_uri": "https://localhost:8080/",
          "height": 34
        },
        "outputId": "ce500d6c-e84e-4658-b764-f19203046ce2"
      },
      "source": [
        "len(y_test)"
      ],
      "execution_count": 99,
      "outputs": [
        {
          "output_type": "execute_result",
          "data": {
            "text/plain": [
              "10000"
            ]
          },
          "metadata": {
            "tags": []
          },
          "execution_count": 99
        }
      ]
    },
    {
      "cell_type": "code",
      "metadata": {
        "id": "_ZHC9lzRN9k3",
        "colab_type": "code",
        "colab": {
          "base_uri": "https://localhost:8080/",
          "height": 264
        },
        "outputId": "ff65eaa6-1cd9-4155-a45e-07553acfd631"
      },
      "source": [
        "import matplotlib.pyplot as plt\n",
        "plt.figure()\n",
        "plt.imshow(x_train[227])\n",
        "plt.show()"
      ],
      "execution_count": 100,
      "outputs": [
        {
          "output_type": "display_data",
          "data": {
            "image/png": "[encoded data removed]",
            "text/plain": [
              "<Figure size 432x288 with 1 Axes>"
            ]
          },
          "metadata": {
            "tags": [],
            "needs_background": "light"
          }
        }
      ]
    },
    {
      "cell_type": "code",
      "metadata": {
        "id": "QO-j0VEc-KsA",
        "colab_type": "code",
        "colab": {}
      },
      "source": [
        "x_train = x_train.astype(\"float32\") / 255.0\n",
        "x_test = x_test.astype(\"float32\")/ 255.0\n"
      ],
      "execution_count": 101,
      "outputs": []
    },
    {
      "cell_type": "code",
      "metadata": {
        "id": "5PdAqEC7OyLD",
        "colab_type": "code",
        "colab": {}
      },
      "source": [
        "x_train = np.expand_dims(x_train, -1)\n",
        "x_test = np.expand_dims(x_test, -1)"
      ],
      "execution_count": 108,
      "outputs": []
    },
    {
      "cell_type": "code",
      "metadata": {
        "id": "9BBDmlDCPTrE",
        "colab_type": "code",
        "colab": {
          "base_uri": "https://localhost:8080/",
          "height": 714
        },
        "outputId": "60f83e70-fe8c-4dd5-9b40-fc7cc2f587b3"
      },
      "source": [
        "plt.figure(figsize= (12, 12))\n",
        "for i in range(25):\n",
        "  plt.subplot(5, 5, i + 1)\n",
        "  plt.xticks([])\n",
        "  plt.yticks([])\n",
        "  plt.imshow((tf.squeeze(x_train[i])), cmap = plt.cm.binary)\n",
        "  plt.xlabel(class_names[y_train[i]])\n",
        "plt.show"
      ],
      "execution_count": 117,
      "outputs": [
        {
          "output_type": "execute_result",
          "data": {
            "text/plain": [
              "<function matplotlib.pyplot.show>"
            ]
          },
          "metadata": {
            "tags": []
          },
          "execution_count": 117
        },
        {
          "output_type": "display_data",
          "data": {
            "image/png": "[encoded data removed]",
            "text/plain": [
              "<Figure size 864x864 with 25 Axes>"
            ]
          },
          "metadata": {
            "tags": []
          }
        }
      ]
    },
    {
      "cell_type": "code",
      "metadata": {
        "id": "ODLmJC_OP9xo",
        "colab_type": "code",
        "colab": {}
      },
      "source": [
        "\n",
        "model = keras.Sequential([keras.layers.Conv2D(filters = 32, kernel_size = (2, 2), activation = 'relu', input_shape = (28,28,1)),\n",
        "                         keras.layers.MaxPooling2D(pool_size = (2, 2)),\n",
        "                         keras.layers.Dropout(0.25),\n",
        "                         keras.layers.Conv2D(filters = 64, kernel_size = (2, 2), activation = 'relu'), \n",
        "                         keras.layers.MaxPooling2D(pool_size = (2, 2)),\n",
        "                         keras.layers.Dropout(0.25),\n",
        "                         keras.layers.Conv2D(filters = 128, kernel_size = (2, 2), activation = 'relu'),\n",
        "                         keras.layers.MaxPooling2D(pool_size =(2, 2)),\n",
        "                         keras.layers.Dropout(0.5),\n",
        "                         keras.layers.Flatten(),\n",
        "                         keras.layers.Dense(128, activation = 'relu')\n",
        "                          \n",
        "\n",
        "\n",
        "])\n",
        "\n",
        "model.add(layers.Dense(10, 'softmax'))"
      ],
      "execution_count": 111,
      "outputs": []
    },
    {
      "cell_type": "code",
      "metadata": {
        "id": "XRz-GwAjmQ4g",
        "colab_type": "code",
        "colab": {
          "base_uri": "https://localhost:8080/",
          "height": 585
        },
        "outputId": "55b8fb99-4fd1-49a4-ba74-0c04e2a318d6"
      },
      "source": [
        "model.summary()"
      ],
      "execution_count": 112,
      "outputs": [
        {
          "output_type": "stream",
          "text": [
            "Model: \"sequential_10\"\n",
            "_________________________________________________________________\n",
            "Layer (type)                 Output Shape              Param #   \n",
            "=================================================================\n",
            "conv2d_30 (Conv2D)           (None, 27, 27, 32)        160       \n",
            "_________________________________________________________________\n",
            "max_pooling2d_30 (MaxPooling (None, 13, 13, 32)        0         \n",
            "_________________________________________________________________\n",
            "dropout_30 (Dropout)         (None, 13, 13, 32)        0         \n",
            "_________________________________________________________________\n",
            "conv2d_31 (Conv2D)           (None, 12, 12, 64)        8256      \n",
            "_________________________________________________________________\n",
            "max_pooling2d_31 (MaxPooling (None, 6, 6, 64)          0         \n",
            "_________________________________________________________________\n",
            "dropout_31 (Dropout)         (None, 6, 6, 64)          0         \n",
            "_________________________________________________________________\n",
            "conv2d_32 (Conv2D)           (None, 5, 5, 128)         32896     \n",
            "_________________________________________________________________\n",
            "max_pooling2d_32 (MaxPooling (None, 2, 2, 128)         0         \n",
            "_________________________________________________________________\n",
            "dropout_32 (Dropout)         (None, 2, 2, 128)         0         \n",
            "_________________________________________________________________\n",
            "flatten_10 (Flatten)         (None, 512)               0         \n",
            "_________________________________________________________________\n",
            "dense_20 (Dense)             (None, 128)               65664     \n",
            "_________________________________________________________________\n",
            "dense_21 (Dense)             (None, 10)                1290      \n",
            "=================================================================\n",
            "Total params: 108,266\n",
            "Trainable params: 108,266\n",
            "Non-trainable params: 0\n",
            "_________________________________________________________________\n"
          ],
          "name": "stdout"
        }
      ]
    },
    {
      "cell_type": "code",
      "metadata": {
        "id": "jeWFB43RRalm",
        "colab_type": "code",
        "colab": {}
      },
      "source": [
        "model.compile(optimizer = 'adam', \n",
        "              loss = tf.keras.losses.SparseCategoricalCrossentropy(from_logits = True),\n",
        "              metrics = ['accuracy'])\n"
      ],
      "execution_count": 113,
      "outputs": []
    },
    {
      "cell_type": "code",
      "metadata": {
        "id": "y5rzjagxTxP2",
        "colab_type": "code",
        "colab": {
          "base_uri": "https://localhost:8080/",
          "height": 390
        },
        "outputId": "85d81a38-b356-42e7-a807-0bd189da94d6"
      },
      "source": [
        "model.fit(x_train, y_train, epochs = 10, shuffle=True)"
      ],
      "execution_count": 114,
      "outputs": [
        {
          "output_type": "stream",
          "text": [
            "Epoch 1/10\n",
            "1875/1875 [==============================] - 50s 27ms/step - loss: 1.7682 - accuracy: 0.6944\n",
            "Epoch 2/10\n",
            "1875/1875 [==============================] - 50s 27ms/step - loss: 1.6876 - accuracy: 0.7733\n",
            "Epoch 3/10\n",
            "1875/1875 [==============================] - 50s 27ms/step - loss: 1.6698 - accuracy: 0.7908\n",
            "Epoch 4/10\n",
            "1875/1875 [==============================] - 51s 27ms/step - loss: 1.6595 - accuracy: 0.8012\n",
            "Epoch 5/10\n",
            "1875/1875 [==============================] - 50s 27ms/step - loss: 1.6518 - accuracy: 0.8084\n",
            "Epoch 6/10\n",
            "1875/1875 [==============================] - 51s 27ms/step - loss: 1.6482 - accuracy: 0.8120\n",
            "Epoch 7/10\n",
            "1875/1875 [==============================] - 50s 27ms/step - loss: 1.6407 - accuracy: 0.8195\n",
            "Epoch 8/10\n",
            "1875/1875 [==============================] - 50s 27ms/step - loss: 1.6391 - accuracy: 0.8208\n",
            "Epoch 9/10\n",
            "1875/1875 [==============================] - 50s 27ms/step - loss: 1.6393 - accuracy: 0.8213\n",
            "Epoch 10/10\n",
            "1875/1875 [==============================] - 50s 27ms/step - loss: 1.6379 - accuracy: 0.8228\n"
          ],
          "name": "stdout"
        },
        {
          "output_type": "execute_result",
          "data": {
            "text/plain": [
              "<tensorflow.python.keras.callbacks.History at 0x7fe05848d5c0>"
            ]
          },
          "metadata": {
            "tags": []
          },
          "execution_count": 114
        }
      ]
    },
    {
      "cell_type": "code",
      "metadata": {
        "id": "1ExYZDd3T_x4",
        "colab_type": "code",
        "colab": {
          "base_uri": "https://localhost:8080/",
          "height": 52
        },
        "outputId": "dad3e957-7722-42e4-e9df-bada67856c79"
      },
      "source": [
        "x_loss, x_acc = model.evaluate(x_test, y_test)\n",
        "print('Fashion_Mnist Data Set Accuracy: ', x_acc*100)"
      ],
      "execution_count": 115,
      "outputs": [
        {
          "output_type": "stream",
          "text": [
            "313/313 [==============================] - 2s 8ms/step - loss: 1.6191 - accuracy: 0.8406\n",
            "Fashion_Mnist Data Set Accuracy:  84.06000137329102\n"
          ],
          "name": "stdout"
        }
      ]
    },
    {
      "cell_type": "code",
      "metadata": {
        "id": "YUjlypLEUsyJ",
        "colab_type": "code",
        "colab": {}
      },
      "source": [
        ""
      ],
      "execution_count": null,
      "outputs": []
    }
  ]
}